{
 "cells": [
  {
   "cell_type": "code",
   "execution_count": 5,
   "metadata": {},
   "outputs": [
    {
     "name": "stdout",
     "output_type": "stream",
     "text": [
      "Name :\n",
      "We will learn how to perform group by operation and count number of Missions as per the company, and plot a bar graph out of it\n",
      "We will learn how to perform group by operation and count the status of the Missions, and plot a pie chart out of it\n",
      "We will learn how to search the number of active rockets, and perform group by operation and count number of active rockets as per the company and plot a bar graph out of it\n"
     ]
    }
   ],
   "source": [
    "print(\"Name :\")\n",
    "print(\"We will learn how to perform group by operation and count number of Missions as per the company, and plot a bar graph out of it\")\n",
    "print(\"We will learn how to perform group by operation and count the status of the Missions, and plot a pie chart out of it\")\n",
    "print(\"We will learn how to search the number of active rockets, and perform group by operation and count number of active rockets as per the company and plot a bar graph out of it\")\n"
   ]
  },
  {
   "cell_type": "code",
   "execution_count": null,
   "metadata": {},
   "outputs": [],
   "source": [
    "import  numpy as np\n",
    "import pandas as pd \n",
    "import matplotlib .pyplot as plt\n",
    "\n",
    "dataframe = pd.read_csv(\"space_Corrected.csv\")\n",
    "df=dataframe.dropna()\n",
    "\n",
    "df"
   ]
  },
  {
   "cell_type": "code",
   "execution_count": 1,
   "metadata": {},
   "outputs": [],
   "source": [
    "#Activity-1\n",
    "#Find total number of missions by each company, and plot a bar graph on it\n",
    "#First group by Company Name and count Status Mission and create a new dataframe out of it\n",
    "group_by_name = df.groupby('Company Name')['Status Mission'].count().reset_index()\n",
    "print(group_by_name)\n",
    "fig = plt.subplots(figsize=(16,8))\n",
    "plt.title('Total Missions (Since 1957)', fontsize=20)\n",
    "plt.xlabel('Company Name', fontsize=16)\n",
    "plt.ylabel('Mission Counts', fontsize=16)\n",
    "plt.xticks(rotation='vertical')\n",
    "\n",
    "#Then get all the Company Name and Status Mission count and use these 2 values to plot a bar graph \n",
    "label = group_by_name['Company Name']\n",
    "value = group_by_name['Status Mission']\n",
    "plt.bar(label, value,width=0.4, color=('red','blue','green','pink','yellow')) #bar-grap\n"
   ]
  },
  {
   "cell_type": "code",
   "execution_count": 2,
   "metadata": {},
   "outputs": [],
   "source": [
    "\n",
    "#Find out the percentage of rocket Success, Failure, Partial Failure, and Prelaunch Failure. And plot a pie chart\n",
    "\n",
    "group_by_status = df.groupby('Status Mission')['Status Rocket'].count().reset_index()\n",
    "print(group_by_status)\n",
    "value = group_by_status['Status Rocket']\n",
    "label = group_by_status['Status Mission']\n",
    "plt.pie(value,labels=label, autopct='%0.1f%%', radius=2)\n",
    "plt.show()\n"
   ]
  },
  {
   "cell_type": "code",
   "execution_count": null,
   "metadata": {},
   "outputs": [],
   "source": [
    "#Activity-3\n",
    "# Find the number of Active Rockets as per the company and plot a bar grap of it\n",
    "\n",
    "#First search where Status Rocket column value is equal to StatusActive\n",
    "search_Status_Active= df.loc[df['Status Rocket'] == 'StatusActive']\n",
    "#Then group by Company Name and count Status Rocket and create a new dataframe out of it\n",
    "group_by_status = search_StatusActive.groupby('Company Name')['Status Rocket'].count().reset_index()\n",
    "print(group_by_status)\n",
    "fig = plt.subplots(figsize=(16,8))\n",
    "plt.xlabel(\"Company Name\")\n",
    "plt.xticks(rotation='vertical')\n",
    "plt.ylabel(\"Number Of Active Rockets\")\n",
    "#Then get all the Company Name and Status Rocket count and use these 2 values to plot a bar graph \n",
    "label = group_by_status['Company Name']\n",
    "value = group_by_status['Status Rocket']\n",
    "plt.bar(label, value,width=0.4, color=('red','blue','green','pink','yellow'))"
   ]
  },
  {
   "cell_type": "code",
   "execution_count": null,
   "metadata": {},
   "outputs": [],
   "source": []
  },
  {
   "cell_type": "code",
   "execution_count": null,
   "metadata": {},
   "outputs": [],
   "source": []
  },
  {
   "cell_type": "code",
   "execution_count": null,
   "metadata": {},
   "outputs": [],
   "source": []
  },
  {
   "cell_type": "code",
   "execution_count": null,
   "metadata": {},
   "outputs": [],
   "source": []
  },
  {
   "cell_type": "code",
   "execution_count": null,
   "metadata": {},
   "outputs": [],
   "source": []
  }
 ],
 "metadata": {
  "kernelspec": {
   "display_name": "Python 3",
   "language": "python",
   "name": "python3"
  },
  "language_info": {
   "codemirror_mode": {
    "name": "ipython",
    "version": 3
   },
   "file_extension": ".py",
   "mimetype": "text/x-python",
   "name": "python",
   "nbconvert_exporter": "python",
   "pygments_lexer": "ipython3",
   "version": "3.7.6"
  }
 },
 "nbformat": 4,
 "nbformat_minor": 4
}
